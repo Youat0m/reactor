{
 "cells": [
  {
   "cell_type": "code",
   "execution_count": 4,
   "id": "bf954488",
   "metadata": {},
   "outputs": [
    {
     "name": "stdout",
     "output_type": "stream",
     "text": [
      "pygame 2.6.1 (SDL 2.28.4, Python 3.13.3)\n",
      "Hello from the pygame community. https://www.pygame.org/contribute.html\n"
     ]
    }
   ],
   "source": [
    "from dataclasses import dataclass\n",
    "import math\n",
    "from random import randint, random\n",
    "import time\n",
    "from types import NoneType\n",
    "import numpy as np\n",
    "import pygame as pg"
   ]
  },
  {
   "cell_type": "code",
   "execution_count": 10,
   "id": "5ef56d62",
   "metadata": {},
   "outputs": [],
   "source": [
    "ROD_SPACE = 1 #расстояние между стрежнями\n",
    "ROD_HIGHT = 1 #высота стрежня \n",
    "ROD_COUNT = 1"
   ]
  },
  {
   "cell_type": "code",
   "execution_count": 12,
   "id": "aa1c9403",
   "metadata": {},
   "outputs": [],
   "source": [
    "class NeutronSystem():\n",
    "    def __init__(self):\n",
    "        self.X:np.ndarray = np.zeros(0)\n",
    "        self.Y:np.ndarray = np.zeros(0)\n",
    "        self.k:np.ndarray = np.zeros(0) # длина вектора перемещения (знак проекции на ось x)\n",
    "        self.Vy:np.ndarray = np.zeros(0)\n",
    "        self.results:np.ndarray\n",
    "        np.vectorize(self.drawResults)\n",
    "\n",
    "    def add(self,x:float,y:float,angle:float):\n",
    "        size = self.X.size + 1\n",
    "        self.X.resize(size)\n",
    "        self.X.resize(size)\n",
    "        self.k.resize(size)\n",
    "        self.Vy.resize(size)\n",
    "        self.Y[size-1] = x\n",
    "        self.X[size-1] = y\n",
    "        self.k[size-1] = ROD_SPACE/math.cos(angle)\n",
    "        self.Vy[size-1] = math.sin(angle)*math.fabs(self.k[size-1])/ROD_HIGHT\n",
    "    \n",
    "    def raycast(self):\n",
    "        self.X+=-1+2*(self.k>0)\n",
    "        border = 1 #границы реактора\n",
    "        to_delete:tuple = np.where(self.X>border or self.X<border)\n",
    "        self.Y+=self.Vy\n",
    "        to_delete = to_delete + (np.where(self.Y>border or self.Y<border))\n",
    "        self.delete(to_delete)\n",
    "        self.results = np.array((ROD_COUNT,ROD_HIGHT))\n",
    "        self.drawResults()\n",
    "    def drawResults(self):\n",
    "        self.results[self.X,self.Y] = self.k\n",
    "    def delete(self,to_delete):\n",
    "        np.delete(self.X,to_delete)\n",
    "        np.delete(self.Y,to_delete)\n",
    "        np.delete(self.k,to_delete)\n",
    "        np.delete(self.Vy,to_delete)\n",
    "        "
   ]
  },
  {
   "cell_type": "code",
   "execution_count": null,
   "id": "2558b3d2",
   "metadata": {},
   "outputs": [],
   "source": [
    "a = NeutronSystem()\n",
    "a.add(5)"
   ]
  }
 ],
 "metadata": {
  "kernelspec": {
   "display_name": "Python 3",
   "language": "python",
   "name": "python3"
  },
  "language_info": {
   "codemirror_mode": {
    "name": "ipython",
    "version": 3
   },
   "file_extension": ".py",
   "mimetype": "text/x-python",
   "name": "python",
   "nbconvert_exporter": "python",
   "pygments_lexer": "ipython3",
   "version": "3.13.3"
  }
 },
 "nbformat": 4,
 "nbformat_minor": 5
}
